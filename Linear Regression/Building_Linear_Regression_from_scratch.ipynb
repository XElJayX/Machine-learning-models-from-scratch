{
  "nbformat": 4,
  "nbformat_minor": 0,
  "metadata": {
    "colab": {
      "provenance": []
    },
    "kernelspec": {
      "name": "python3",
      "display_name": "Python 3"
    },
    "language_info": {
      "name": "python"
    }
  },
  "cells": [
    {
      "cell_type": "markdown",
      "source": [
        " **Linear Regression**\n",
        "\n",
        " Y=MX+C\n",
        "\n",
        " Y-> Dependent Variable\n",
        " X-> Independent Variable\n",
        " w-> weight\n",
        " b-> bias"
      ],
      "metadata": {
        "id": "GBspFgTqN1HF"
      }
    },
    {
      "cell_type": "markdown",
      "source": [
        "**Gradient Descent:**"
      ],
      "metadata": {
        "id": "q-WCWAR5OH22"
      }
    },
    {
      "cell_type": "markdown",
      "source": [
        "Optimizing to minimize the loss function.\n",
        "\n",
        "w = w - a * dw<br>\n",
        "b = b - a * dw"
      ],
      "metadata": {
        "id": "ctojsOUvOKoY"
      }
    },
    {
      "cell_type": "markdown",
      "source": [
        "**Learning Rate**<br>\n",
        "Tuning parameter in an optimization algo that deternmines the step size at each iteration while moving toward gloabal minima"
      ],
      "metadata": {
        "id": "8RiPKYbcOpHF"
      }
    },
    {
      "cell_type": "markdown",
      "source": [
        "![image.png](data:image/png;base64,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)"
      ],
      "metadata": {
        "id": "rpWbriXVPCmc"
      }
    },
    {
      "cell_type": "markdown",
      "source": [
        "CODE STARTS FROM HERE"
      ],
      "metadata": {
        "id": "yCPN5MvlP9UK"
      }
    },
    {
      "cell_type": "code",
      "execution_count": 1,
      "metadata": {
        "id": "U5GSUnIWNvGq"
      },
      "outputs": [],
      "source": [
        "import numpy as np"
      ]
    },
    {
      "cell_type": "markdown",
      "source": [
        "LINEAR REGRESSION"
      ],
      "metadata": {
        "id": "_sCA89Z0QB6f"
      }
    },
    {
      "cell_type": "code",
      "source": [
        "class Linear_Regression:\n",
        "    # INITIATING THE HYPERPARAMETERS\n",
        "    def __init__(self, learning_rate, no_of_iterations):\n",
        "        self.learning_rate = learning_rate\n",
        "        self.no_of_iteration = no_of_iterations\n",
        "\n",
        "    # FITTING THE DATA\n",
        "    def fit(self, X, Y):\n",
        "        # number of training examples & number of features\n",
        "        self.m, self.n = X.shape  # m -> training examples\n",
        "\n",
        "        # Initiating the weight and bias\n",
        "        self.w = np.zeros(self.n)\n",
        "        self.b = 0\n",
        "        self.X = X\n",
        "        self.Y = Y\n",
        "\n",
        "        # Implementing Gradient Descent\n",
        "        for i in range(self.no_of_iteration):\n",
        "            self.update_weights()\n",
        "\n",
        "    def update_weights(self):\n",
        "        # Predict the output for current weights\n",
        "        Y_prediction = self.predict(self.X)  # Local variable Y_prediction\n",
        "\n",
        "        # Calculate Gradients\n",
        "        dw = -(2 * (self.X.T).dot(self.Y - Y_prediction)) / self.m\n",
        "        db = -(2 * np.sum(self.Y - Y_prediction)) / self.m\n",
        "\n",
        "        # Update the weights\n",
        "        self.w = self.w - (self.learning_rate * dw)\n",
        "        self.b = self.b - (self.learning_rate * db)\n",
        "\n",
        "    def predict(self, X):\n",
        "        # Predict output using current weights and bias\n",
        "        return X.dot(self.w) + self.b\n"
      ],
      "metadata": {
        "id": "6MfsJ6cSQBBh"
      },
      "execution_count": 36,
      "outputs": []
    },
    {
      "cell_type": "markdown",
      "source": [
        "USING LINEAR REGRESSION MODEL"
      ],
      "metadata": {
        "id": "2eNdnUgj6CmA"
      }
    },
    {
      "cell_type": "code",
      "source": [
        "#IMPORT LIBRARIES\n",
        "import pandas as pd\n",
        "from sklearn.model_selection import train_test_split\n",
        "import matplotlib.pyplot as plt\n"
      ],
      "metadata": {
        "id": "7JOeVvxb5-dA"
      },
      "execution_count": 9,
      "outputs": []
    },
    {
      "cell_type": "code",
      "source": [
        "#DATA PRE-PROCESSING\n",
        "data = pd.read_csv(\"/content/salary_data.csv\")"
      ],
      "metadata": {
        "id": "9ww-BMeO7MDg"
      },
      "execution_count": 11,
      "outputs": []
    },
    {
      "cell_type": "code",
      "source": [
        "data.head()"
      ],
      "metadata": {
        "colab": {
          "base_uri": "https://localhost:8080/",
          "height": 206
        },
        "id": "pk5Nuxdv7VoF",
        "outputId": "e7394ed8-b12c-4581-8083-fd2a17cf1e85"
      },
      "execution_count": 12,
      "outputs": [
        {
          "output_type": "execute_result",
          "data": {
            "text/plain": [
              "   YearsExperience  Salary\n",
              "0              1.1   39343\n",
              "1              1.3   46205\n",
              "2              1.5   37731\n",
              "3              2.0   43525\n",
              "4              2.2   39891"
            ],
            "text/html": [
              "\n",
              "  <div id=\"df-165e14e9-4ee8-44e2-b101-7cbaa46b8415\" class=\"colab-df-container\">\n",
              "    <div>\n",
              "<style scoped>\n",
              "    .dataframe tbody tr th:only-of-type {\n",
              "        vertical-align: middle;\n",
              "    }\n",
              "\n",
              "    .dataframe tbody tr th {\n",
              "        vertical-align: top;\n",
              "    }\n",
              "\n",
              "    .dataframe thead th {\n",
              "        text-align: right;\n",
              "    }\n",
              "</style>\n",
              "<table border=\"1\" class=\"dataframe\">\n",
              "  <thead>\n",
              "    <tr style=\"text-align: right;\">\n",
              "      <th></th>\n",
              "      <th>YearsExperience</th>\n",
              "      <th>Salary</th>\n",
              "    </tr>\n",
              "  </thead>\n",
              "  <tbody>\n",
              "    <tr>\n",
              "      <th>0</th>\n",
              "      <td>1.1</td>\n",
              "      <td>39343</td>\n",
              "    </tr>\n",
              "    <tr>\n",
              "      <th>1</th>\n",
              "      <td>1.3</td>\n",
              "      <td>46205</td>\n",
              "    </tr>\n",
              "    <tr>\n",
              "      <th>2</th>\n",
              "      <td>1.5</td>\n",
              "      <td>37731</td>\n",
              "    </tr>\n",
              "    <tr>\n",
              "      <th>3</th>\n",
              "      <td>2.0</td>\n",
              "      <td>43525</td>\n",
              "    </tr>\n",
              "    <tr>\n",
              "      <th>4</th>\n",
              "      <td>2.2</td>\n",
              "      <td>39891</td>\n",
              "    </tr>\n",
              "  </tbody>\n",
              "</table>\n",
              "</div>\n",
              "    <div class=\"colab-df-buttons\">\n",
              "\n",
              "  <div class=\"colab-df-container\">\n",
              "    <button class=\"colab-df-convert\" onclick=\"convertToInteractive('df-165e14e9-4ee8-44e2-b101-7cbaa46b8415')\"\n",
              "            title=\"Convert this dataframe to an interactive table.\"\n",
              "            style=\"display:none;\">\n",
              "\n",
              "  <svg xmlns=\"http://www.w3.org/2000/svg\" height=\"24px\" viewBox=\"0 -960 960 960\">\n",
              "    <path d=\"M120-120v-720h720v720H120Zm60-500h600v-160H180v160Zm220 220h160v-160H400v160Zm0 220h160v-160H400v160ZM180-400h160v-160H180v160Zm440 0h160v-160H620v160ZM180-180h160v-160H180v160Zm440 0h160v-160H620v160Z\"/>\n",
              "  </svg>\n",
              "    </button>\n",
              "\n",
              "  <style>\n",
              "    .colab-df-container {\n",
              "      display:flex;\n",
              "      gap: 12px;\n",
              "    }\n",
              "\n",
              "    .colab-df-convert {\n",
              "      background-color: #E8F0FE;\n",
              "      border: none;\n",
              "      border-radius: 50%;\n",
              "      cursor: pointer;\n",
              "      display: none;\n",
              "      fill: #1967D2;\n",
              "      height: 32px;\n",
              "      padding: 0 0 0 0;\n",
              "      width: 32px;\n",
              "    }\n",
              "\n",
              "    .colab-df-convert:hover {\n",
              "      background-color: #E2EBFA;\n",
              "      box-shadow: 0px 1px 2px rgba(60, 64, 67, 0.3), 0px 1px 3px 1px rgba(60, 64, 67, 0.15);\n",
              "      fill: #174EA6;\n",
              "    }\n",
              "\n",
              "    .colab-df-buttons div {\n",
              "      margin-bottom: 4px;\n",
              "    }\n",
              "\n",
              "    [theme=dark] .colab-df-convert {\n",
              "      background-color: #3B4455;\n",
              "      fill: #D2E3FC;\n",
              "    }\n",
              "\n",
              "    [theme=dark] .colab-df-convert:hover {\n",
              "      background-color: #434B5C;\n",
              "      box-shadow: 0px 1px 3px 1px rgba(0, 0, 0, 0.15);\n",
              "      filter: drop-shadow(0px 1px 2px rgba(0, 0, 0, 0.3));\n",
              "      fill: #FFFFFF;\n",
              "    }\n",
              "  </style>\n",
              "\n",
              "    <script>\n",
              "      const buttonEl =\n",
              "        document.querySelector('#df-165e14e9-4ee8-44e2-b101-7cbaa46b8415 button.colab-df-convert');\n",
              "      buttonEl.style.display =\n",
              "        google.colab.kernel.accessAllowed ? 'block' : 'none';\n",
              "\n",
              "      async function convertToInteractive(key) {\n",
              "        const element = document.querySelector('#df-165e14e9-4ee8-44e2-b101-7cbaa46b8415');\n",
              "        const dataTable =\n",
              "          await google.colab.kernel.invokeFunction('convertToInteractive',\n",
              "                                                    [key], {});\n",
              "        if (!dataTable) return;\n",
              "\n",
              "        const docLinkHtml = 'Like what you see? Visit the ' +\n",
              "          '<a target=\"_blank\" href=https://colab.research.google.com/notebooks/data_table.ipynb>data table notebook</a>'\n",
              "          + ' to learn more about interactive tables.';\n",
              "        element.innerHTML = '';\n",
              "        dataTable['output_type'] = 'display_data';\n",
              "        await google.colab.output.renderOutput(dataTable, element);\n",
              "        const docLink = document.createElement('div');\n",
              "        docLink.innerHTML = docLinkHtml;\n",
              "        element.appendChild(docLink);\n",
              "      }\n",
              "    </script>\n",
              "  </div>\n",
              "\n",
              "\n",
              "<div id=\"df-f85a4ab8-7f76-4d70-bb31-64e506b3dde3\">\n",
              "  <button class=\"colab-df-quickchart\" onclick=\"quickchart('df-f85a4ab8-7f76-4d70-bb31-64e506b3dde3')\"\n",
              "            title=\"Suggest charts\"\n",
              "            style=\"display:none;\">\n",
              "\n",
              "<svg xmlns=\"http://www.w3.org/2000/svg\" height=\"24px\"viewBox=\"0 0 24 24\"\n",
              "     width=\"24px\">\n",
              "    <g>\n",
              "        <path d=\"M19 3H5c-1.1 0-2 .9-2 2v14c0 1.1.9 2 2 2h14c1.1 0 2-.9 2-2V5c0-1.1-.9-2-2-2zM9 17H7v-7h2v7zm4 0h-2V7h2v10zm4 0h-2v-4h2v4z\"/>\n",
              "    </g>\n",
              "</svg>\n",
              "  </button>\n",
              "\n",
              "<style>\n",
              "  .colab-df-quickchart {\n",
              "      --bg-color: #E8F0FE;\n",
              "      --fill-color: #1967D2;\n",
              "      --hover-bg-color: #E2EBFA;\n",
              "      --hover-fill-color: #174EA6;\n",
              "      --disabled-fill-color: #AAA;\n",
              "      --disabled-bg-color: #DDD;\n",
              "  }\n",
              "\n",
              "  [theme=dark] .colab-df-quickchart {\n",
              "      --bg-color: #3B4455;\n",
              "      --fill-color: #D2E3FC;\n",
              "      --hover-bg-color: #434B5C;\n",
              "      --hover-fill-color: #FFFFFF;\n",
              "      --disabled-bg-color: #3B4455;\n",
              "      --disabled-fill-color: #666;\n",
              "  }\n",
              "\n",
              "  .colab-df-quickchart {\n",
              "    background-color: var(--bg-color);\n",
              "    border: none;\n",
              "    border-radius: 50%;\n",
              "    cursor: pointer;\n",
              "    display: none;\n",
              "    fill: var(--fill-color);\n",
              "    height: 32px;\n",
              "    padding: 0;\n",
              "    width: 32px;\n",
              "  }\n",
              "\n",
              "  .colab-df-quickchart:hover {\n",
              "    background-color: var(--hover-bg-color);\n",
              "    box-shadow: 0 1px 2px rgba(60, 64, 67, 0.3), 0 1px 3px 1px rgba(60, 64, 67, 0.15);\n",
              "    fill: var(--button-hover-fill-color);\n",
              "  }\n",
              "\n",
              "  .colab-df-quickchart-complete:disabled,\n",
              "  .colab-df-quickchart-complete:disabled:hover {\n",
              "    background-color: var(--disabled-bg-color);\n",
              "    fill: var(--disabled-fill-color);\n",
              "    box-shadow: none;\n",
              "  }\n",
              "\n",
              "  .colab-df-spinner {\n",
              "    border: 2px solid var(--fill-color);\n",
              "    border-color: transparent;\n",
              "    border-bottom-color: var(--fill-color);\n",
              "    animation:\n",
              "      spin 1s steps(1) infinite;\n",
              "  }\n",
              "\n",
              "  @keyframes spin {\n",
              "    0% {\n",
              "      border-color: transparent;\n",
              "      border-bottom-color: var(--fill-color);\n",
              "      border-left-color: var(--fill-color);\n",
              "    }\n",
              "    20% {\n",
              "      border-color: transparent;\n",
              "      border-left-color: var(--fill-color);\n",
              "      border-top-color: var(--fill-color);\n",
              "    }\n",
              "    30% {\n",
              "      border-color: transparent;\n",
              "      border-left-color: var(--fill-color);\n",
              "      border-top-color: var(--fill-color);\n",
              "      border-right-color: var(--fill-color);\n",
              "    }\n",
              "    40% {\n",
              "      border-color: transparent;\n",
              "      border-right-color: var(--fill-color);\n",
              "      border-top-color: var(--fill-color);\n",
              "    }\n",
              "    60% {\n",
              "      border-color: transparent;\n",
              "      border-right-color: var(--fill-color);\n",
              "    }\n",
              "    80% {\n",
              "      border-color: transparent;\n",
              "      border-right-color: var(--fill-color);\n",
              "      border-bottom-color: var(--fill-color);\n",
              "    }\n",
              "    90% {\n",
              "      border-color: transparent;\n",
              "      border-bottom-color: var(--fill-color);\n",
              "    }\n",
              "  }\n",
              "</style>\n",
              "\n",
              "  <script>\n",
              "    async function quickchart(key) {\n",
              "      const quickchartButtonEl =\n",
              "        document.querySelector('#' + key + ' button');\n",
              "      quickchartButtonEl.disabled = true;  // To prevent multiple clicks.\n",
              "      quickchartButtonEl.classList.add('colab-df-spinner');\n",
              "      try {\n",
              "        const charts = await google.colab.kernel.invokeFunction(\n",
              "            'suggestCharts', [key], {});\n",
              "      } catch (error) {\n",
              "        console.error('Error during call to suggestCharts:', error);\n",
              "      }\n",
              "      quickchartButtonEl.classList.remove('colab-df-spinner');\n",
              "      quickchartButtonEl.classList.add('colab-df-quickchart-complete');\n",
              "    }\n",
              "    (() => {\n",
              "      let quickchartButtonEl =\n",
              "        document.querySelector('#df-f85a4ab8-7f76-4d70-bb31-64e506b3dde3 button');\n",
              "      quickchartButtonEl.style.display =\n",
              "        google.colab.kernel.accessAllowed ? 'block' : 'none';\n",
              "    })();\n",
              "  </script>\n",
              "</div>\n",
              "\n",
              "    </div>\n",
              "  </div>\n"
            ],
            "application/vnd.google.colaboratory.intrinsic+json": {
              "type": "dataframe",
              "variable_name": "data",
              "summary": "{\n  \"name\": \"data\",\n  \"rows\": 30,\n  \"fields\": [\n    {\n      \"column\": \"YearsExperience\",\n      \"properties\": {\n        \"dtype\": \"number\",\n        \"std\": 2.8378881576627184,\n        \"min\": 1.1,\n        \"max\": 10.5,\n        \"num_unique_values\": 28,\n        \"samples\": [\n          3.9,\n          9.6,\n          3.7\n        ],\n        \"semantic_type\": \"\",\n        \"description\": \"\"\n      }\n    },\n    {\n      \"column\": \"Salary\",\n      \"properties\": {\n        \"dtype\": \"number\",\n        \"std\": 27414,\n        \"min\": 37731,\n        \"max\": 122391,\n        \"num_unique_values\": 30,\n        \"samples\": [\n          112635,\n          67938,\n          113812\n        ],\n        \"semantic_type\": \"\",\n        \"description\": \"\"\n      }\n    }\n  ]\n}"
            }
          },
          "metadata": {},
          "execution_count": 12
        }
      ]
    },
    {
      "cell_type": "code",
      "source": [
        "data.tail()"
      ],
      "metadata": {
        "colab": {
          "base_uri": "https://localhost:8080/",
          "height": 206
        },
        "id": "VrIvL9h47eCb",
        "outputId": "d07dd2db-b4c9-4912-c3ae-2289da569413"
      },
      "execution_count": 13,
      "outputs": [
        {
          "output_type": "execute_result",
          "data": {
            "text/plain": [
              "    YearsExperience  Salary\n",
              "25              9.0  105582\n",
              "26              9.5  116969\n",
              "27              9.6  112635\n",
              "28             10.3  122391\n",
              "29             10.5  121872"
            ],
            "text/html": [
              "\n",
              "  <div id=\"df-6555afa9-87e4-40e8-a0b1-3a8a2aebc0d6\" class=\"colab-df-container\">\n",
              "    <div>\n",
              "<style scoped>\n",
              "    .dataframe tbody tr th:only-of-type {\n",
              "        vertical-align: middle;\n",
              "    }\n",
              "\n",
              "    .dataframe tbody tr th {\n",
              "        vertical-align: top;\n",
              "    }\n",
              "\n",
              "    .dataframe thead th {\n",
              "        text-align: right;\n",
              "    }\n",
              "</style>\n",
              "<table border=\"1\" class=\"dataframe\">\n",
              "  <thead>\n",
              "    <tr style=\"text-align: right;\">\n",
              "      <th></th>\n",
              "      <th>YearsExperience</th>\n",
              "      <th>Salary</th>\n",
              "    </tr>\n",
              "  </thead>\n",
              "  <tbody>\n",
              "    <tr>\n",
              "      <th>25</th>\n",
              "      <td>9.0</td>\n",
              "      <td>105582</td>\n",
              "    </tr>\n",
              "    <tr>\n",
              "      <th>26</th>\n",
              "      <td>9.5</td>\n",
              "      <td>116969</td>\n",
              "    </tr>\n",
              "    <tr>\n",
              "      <th>27</th>\n",
              "      <td>9.6</td>\n",
              "      <td>112635</td>\n",
              "    </tr>\n",
              "    <tr>\n",
              "      <th>28</th>\n",
              "      <td>10.3</td>\n",
              "      <td>122391</td>\n",
              "    </tr>\n",
              "    <tr>\n",
              "      <th>29</th>\n",
              "      <td>10.5</td>\n",
              "      <td>121872</td>\n",
              "    </tr>\n",
              "  </tbody>\n",
              "</table>\n",
              "</div>\n",
              "    <div class=\"colab-df-buttons\">\n",
              "\n",
              "  <div class=\"colab-df-container\">\n",
              "    <button class=\"colab-df-convert\" onclick=\"convertToInteractive('df-6555afa9-87e4-40e8-a0b1-3a8a2aebc0d6')\"\n",
              "            title=\"Convert this dataframe to an interactive table.\"\n",
              "            style=\"display:none;\">\n",
              "\n",
              "  <svg xmlns=\"http://www.w3.org/2000/svg\" height=\"24px\" viewBox=\"0 -960 960 960\">\n",
              "    <path d=\"M120-120v-720h720v720H120Zm60-500h600v-160H180v160Zm220 220h160v-160H400v160Zm0 220h160v-160H400v160ZM180-400h160v-160H180v160Zm440 0h160v-160H620v160ZM180-180h160v-160H180v160Zm440 0h160v-160H620v160Z\"/>\n",
              "  </svg>\n",
              "    </button>\n",
              "\n",
              "  <style>\n",
              "    .colab-df-container {\n",
              "      display:flex;\n",
              "      gap: 12px;\n",
              "    }\n",
              "\n",
              "    .colab-df-convert {\n",
              "      background-color: #E8F0FE;\n",
              "      border: none;\n",
              "      border-radius: 50%;\n",
              "      cursor: pointer;\n",
              "      display: none;\n",
              "      fill: #1967D2;\n",
              "      height: 32px;\n",
              "      padding: 0 0 0 0;\n",
              "      width: 32px;\n",
              "    }\n",
              "\n",
              "    .colab-df-convert:hover {\n",
              "      background-color: #E2EBFA;\n",
              "      box-shadow: 0px 1px 2px rgba(60, 64, 67, 0.3), 0px 1px 3px 1px rgba(60, 64, 67, 0.15);\n",
              "      fill: #174EA6;\n",
              "    }\n",
              "\n",
              "    .colab-df-buttons div {\n",
              "      margin-bottom: 4px;\n",
              "    }\n",
              "\n",
              "    [theme=dark] .colab-df-convert {\n",
              "      background-color: #3B4455;\n",
              "      fill: #D2E3FC;\n",
              "    }\n",
              "\n",
              "    [theme=dark] .colab-df-convert:hover {\n",
              "      background-color: #434B5C;\n",
              "      box-shadow: 0px 1px 3px 1px rgba(0, 0, 0, 0.15);\n",
              "      filter: drop-shadow(0px 1px 2px rgba(0, 0, 0, 0.3));\n",
              "      fill: #FFFFFF;\n",
              "    }\n",
              "  </style>\n",
              "\n",
              "    <script>\n",
              "      const buttonEl =\n",
              "        document.querySelector('#df-6555afa9-87e4-40e8-a0b1-3a8a2aebc0d6 button.colab-df-convert');\n",
              "      buttonEl.style.display =\n",
              "        google.colab.kernel.accessAllowed ? 'block' : 'none';\n",
              "\n",
              "      async function convertToInteractive(key) {\n",
              "        const element = document.querySelector('#df-6555afa9-87e4-40e8-a0b1-3a8a2aebc0d6');\n",
              "        const dataTable =\n",
              "          await google.colab.kernel.invokeFunction('convertToInteractive',\n",
              "                                                    [key], {});\n",
              "        if (!dataTable) return;\n",
              "\n",
              "        const docLinkHtml = 'Like what you see? Visit the ' +\n",
              "          '<a target=\"_blank\" href=https://colab.research.google.com/notebooks/data_table.ipynb>data table notebook</a>'\n",
              "          + ' to learn more about interactive tables.';\n",
              "        element.innerHTML = '';\n",
              "        dataTable['output_type'] = 'display_data';\n",
              "        await google.colab.output.renderOutput(dataTable, element);\n",
              "        const docLink = document.createElement('div');\n",
              "        docLink.innerHTML = docLinkHtml;\n",
              "        element.appendChild(docLink);\n",
              "      }\n",
              "    </script>\n",
              "  </div>\n",
              "\n",
              "\n",
              "<div id=\"df-da5e90e2-7ecb-4539-b018-d58233c99124\">\n",
              "  <button class=\"colab-df-quickchart\" onclick=\"quickchart('df-da5e90e2-7ecb-4539-b018-d58233c99124')\"\n",
              "            title=\"Suggest charts\"\n",
              "            style=\"display:none;\">\n",
              "\n",
              "<svg xmlns=\"http://www.w3.org/2000/svg\" height=\"24px\"viewBox=\"0 0 24 24\"\n",
              "     width=\"24px\">\n",
              "    <g>\n",
              "        <path d=\"M19 3H5c-1.1 0-2 .9-2 2v14c0 1.1.9 2 2 2h14c1.1 0 2-.9 2-2V5c0-1.1-.9-2-2-2zM9 17H7v-7h2v7zm4 0h-2V7h2v10zm4 0h-2v-4h2v4z\"/>\n",
              "    </g>\n",
              "</svg>\n",
              "  </button>\n",
              "\n",
              "<style>\n",
              "  .colab-df-quickchart {\n",
              "      --bg-color: #E8F0FE;\n",
              "      --fill-color: #1967D2;\n",
              "      --hover-bg-color: #E2EBFA;\n",
              "      --hover-fill-color: #174EA6;\n",
              "      --disabled-fill-color: #AAA;\n",
              "      --disabled-bg-color: #DDD;\n",
              "  }\n",
              "\n",
              "  [theme=dark] .colab-df-quickchart {\n",
              "      --bg-color: #3B4455;\n",
              "      --fill-color: #D2E3FC;\n",
              "      --hover-bg-color: #434B5C;\n",
              "      --hover-fill-color: #FFFFFF;\n",
              "      --disabled-bg-color: #3B4455;\n",
              "      --disabled-fill-color: #666;\n",
              "  }\n",
              "\n",
              "  .colab-df-quickchart {\n",
              "    background-color: var(--bg-color);\n",
              "    border: none;\n",
              "    border-radius: 50%;\n",
              "    cursor: pointer;\n",
              "    display: none;\n",
              "    fill: var(--fill-color);\n",
              "    height: 32px;\n",
              "    padding: 0;\n",
              "    width: 32px;\n",
              "  }\n",
              "\n",
              "  .colab-df-quickchart:hover {\n",
              "    background-color: var(--hover-bg-color);\n",
              "    box-shadow: 0 1px 2px rgba(60, 64, 67, 0.3), 0 1px 3px 1px rgba(60, 64, 67, 0.15);\n",
              "    fill: var(--button-hover-fill-color);\n",
              "  }\n",
              "\n",
              "  .colab-df-quickchart-complete:disabled,\n",
              "  .colab-df-quickchart-complete:disabled:hover {\n",
              "    background-color: var(--disabled-bg-color);\n",
              "    fill: var(--disabled-fill-color);\n",
              "    box-shadow: none;\n",
              "  }\n",
              "\n",
              "  .colab-df-spinner {\n",
              "    border: 2px solid var(--fill-color);\n",
              "    border-color: transparent;\n",
              "    border-bottom-color: var(--fill-color);\n",
              "    animation:\n",
              "      spin 1s steps(1) infinite;\n",
              "  }\n",
              "\n",
              "  @keyframes spin {\n",
              "    0% {\n",
              "      border-color: transparent;\n",
              "      border-bottom-color: var(--fill-color);\n",
              "      border-left-color: var(--fill-color);\n",
              "    }\n",
              "    20% {\n",
              "      border-color: transparent;\n",
              "      border-left-color: var(--fill-color);\n",
              "      border-top-color: var(--fill-color);\n",
              "    }\n",
              "    30% {\n",
              "      border-color: transparent;\n",
              "      border-left-color: var(--fill-color);\n",
              "      border-top-color: var(--fill-color);\n",
              "      border-right-color: var(--fill-color);\n",
              "    }\n",
              "    40% {\n",
              "      border-color: transparent;\n",
              "      border-right-color: var(--fill-color);\n",
              "      border-top-color: var(--fill-color);\n",
              "    }\n",
              "    60% {\n",
              "      border-color: transparent;\n",
              "      border-right-color: var(--fill-color);\n",
              "    }\n",
              "    80% {\n",
              "      border-color: transparent;\n",
              "      border-right-color: var(--fill-color);\n",
              "      border-bottom-color: var(--fill-color);\n",
              "    }\n",
              "    90% {\n",
              "      border-color: transparent;\n",
              "      border-bottom-color: var(--fill-color);\n",
              "    }\n",
              "  }\n",
              "</style>\n",
              "\n",
              "  <script>\n",
              "    async function quickchart(key) {\n",
              "      const quickchartButtonEl =\n",
              "        document.querySelector('#' + key + ' button');\n",
              "      quickchartButtonEl.disabled = true;  // To prevent multiple clicks.\n",
              "      quickchartButtonEl.classList.add('colab-df-spinner');\n",
              "      try {\n",
              "        const charts = await google.colab.kernel.invokeFunction(\n",
              "            'suggestCharts', [key], {});\n",
              "      } catch (error) {\n",
              "        console.error('Error during call to suggestCharts:', error);\n",
              "      }\n",
              "      quickchartButtonEl.classList.remove('colab-df-spinner');\n",
              "      quickchartButtonEl.classList.add('colab-df-quickchart-complete');\n",
              "    }\n",
              "    (() => {\n",
              "      let quickchartButtonEl =\n",
              "        document.querySelector('#df-da5e90e2-7ecb-4539-b018-d58233c99124 button');\n",
              "      quickchartButtonEl.style.display =\n",
              "        google.colab.kernel.accessAllowed ? 'block' : 'none';\n",
              "    })();\n",
              "  </script>\n",
              "</div>\n",
              "\n",
              "    </div>\n",
              "  </div>\n"
            ],
            "application/vnd.google.colaboratory.intrinsic+json": {
              "type": "dataframe",
              "summary": "{\n  \"name\": \"data\",\n  \"rows\": 5,\n  \"fields\": [\n    {\n      \"column\": \"YearsExperience\",\n      \"properties\": {\n        \"dtype\": \"number\",\n        \"std\": 0.6140032573203502,\n        \"min\": 9.0,\n        \"max\": 10.5,\n        \"num_unique_values\": 5,\n        \"samples\": [\n          9.5,\n          10.5,\n          9.6\n        ],\n        \"semantic_type\": \"\",\n        \"description\": \"\"\n      }\n    },\n    {\n      \"column\": \"Salary\",\n      \"properties\": {\n        \"dtype\": \"number\",\n        \"std\": 7001,\n        \"min\": 105582,\n        \"max\": 122391,\n        \"num_unique_values\": 5,\n        \"samples\": [\n          116969,\n          121872,\n          112635\n        ],\n        \"semantic_type\": \"\",\n        \"description\": \"\"\n      }\n    }\n  ]\n}"
            }
          },
          "metadata": {},
          "execution_count": 13
        }
      ]
    },
    {
      "cell_type": "code",
      "source": [
        "data.shape"
      ],
      "metadata": {
        "colab": {
          "base_uri": "https://localhost:8080/"
        },
        "id": "fATFd3qB7Zru",
        "outputId": "23262287-e4a4-49a7-b8cb-c9dbc1432869"
      },
      "execution_count": 14,
      "outputs": [
        {
          "output_type": "execute_result",
          "data": {
            "text/plain": [
              "(30, 2)"
            ]
          },
          "metadata": {},
          "execution_count": 14
        }
      ]
    },
    {
      "cell_type": "code",
      "source": [
        "data.isnull().sum()"
      ],
      "metadata": {
        "colab": {
          "base_uri": "https://localhost:8080/",
          "height": 147
        },
        "id": "5YF0MlqL7xeJ",
        "outputId": "deaf9d9e-2e66-405c-e576-e67abdf69a56"
      },
      "execution_count": 15,
      "outputs": [
        {
          "output_type": "execute_result",
          "data": {
            "text/plain": [
              "YearsExperience    0\n",
              "Salary             0\n",
              "dtype: int64"
            ],
            "text/html": [
              "<div>\n",
              "<style scoped>\n",
              "    .dataframe tbody tr th:only-of-type {\n",
              "        vertical-align: middle;\n",
              "    }\n",
              "\n",
              "    .dataframe tbody tr th {\n",
              "        vertical-align: top;\n",
              "    }\n",
              "\n",
              "    .dataframe thead th {\n",
              "        text-align: right;\n",
              "    }\n",
              "</style>\n",
              "<table border=\"1\" class=\"dataframe\">\n",
              "  <thead>\n",
              "    <tr style=\"text-align: right;\">\n",
              "      <th></th>\n",
              "      <th>0</th>\n",
              "    </tr>\n",
              "  </thead>\n",
              "  <tbody>\n",
              "    <tr>\n",
              "      <th>YearsExperience</th>\n",
              "      <td>0</td>\n",
              "    </tr>\n",
              "    <tr>\n",
              "      <th>Salary</th>\n",
              "      <td>0</td>\n",
              "    </tr>\n",
              "  </tbody>\n",
              "</table>\n",
              "</div><br><label><b>dtype:</b> int64</label>"
            ]
          },
          "metadata": {},
          "execution_count": 15
        }
      ]
    },
    {
      "cell_type": "code",
      "source": [
        "# SPLIT DATASET\n",
        "X = data.iloc[:,:-1].values\n",
        "Y = data.iloc[:,1].values"
      ],
      "metadata": {
        "id": "uUt-uZoU77_d"
      },
      "execution_count": 23,
      "outputs": []
    },
    {
      "cell_type": "code",
      "source": [
        "X"
      ],
      "metadata": {
        "colab": {
          "base_uri": "https://localhost:8080/"
        },
        "id": "uDfCQcCY8lZz",
        "outputId": "4d0fed70-ae4b-4dfc-c656-457b182bbda1"
      },
      "execution_count": 24,
      "outputs": [
        {
          "output_type": "execute_result",
          "data": {
            "text/plain": [
              "array([[ 1.1],\n",
              "       [ 1.3],\n",
              "       [ 1.5],\n",
              "       [ 2. ],\n",
              "       [ 2.2],\n",
              "       [ 2.9],\n",
              "       [ 3. ],\n",
              "       [ 3.2],\n",
              "       [ 3.2],\n",
              "       [ 3.7],\n",
              "       [ 3.9],\n",
              "       [ 4. ],\n",
              "       [ 4. ],\n",
              "       [ 4.1],\n",
              "       [ 4.5],\n",
              "       [ 4.9],\n",
              "       [ 5.1],\n",
              "       [ 5.3],\n",
              "       [ 5.9],\n",
              "       [ 6. ],\n",
              "       [ 6.8],\n",
              "       [ 7.1],\n",
              "       [ 7.9],\n",
              "       [ 8.2],\n",
              "       [ 8.7],\n",
              "       [ 9. ],\n",
              "       [ 9.5],\n",
              "       [ 9.6],\n",
              "       [10.3],\n",
              "       [10.5]])"
            ]
          },
          "metadata": {},
          "execution_count": 24
        }
      ]
    },
    {
      "cell_type": "code",
      "source": [
        "Y"
      ],
      "metadata": {
        "colab": {
          "base_uri": "https://localhost:8080/"
        },
        "id": "8bAlenSX9CTg",
        "outputId": "5beca6c5-7de2-46e2-fb8a-b612a885113a"
      },
      "execution_count": 25,
      "outputs": [
        {
          "output_type": "execute_result",
          "data": {
            "text/plain": [
              "array([ 39343,  46205,  37731,  43525,  39891,  56642,  60150,  54445,\n",
              "        64445,  57189,  63218,  55794,  56957,  57081,  61111,  67938,\n",
              "        66029,  83088,  81363,  93940,  91738,  98273, 101302, 113812,\n",
              "       109431, 105582, 116969, 112635, 122391, 121872])"
            ]
          },
          "metadata": {},
          "execution_count": 25
        }
      ]
    },
    {
      "cell_type": "code",
      "source": [
        "#TRAIN TEST SPLIT\n",
        "x_train ,x_test,  y_train , y_test = train_test_split(X,Y, test_size = 0.33, random_state = 2 )"
      ],
      "metadata": {
        "id": "LLHwjUFy9Xr-"
      },
      "execution_count": 37,
      "outputs": []
    },
    {
      "cell_type": "code",
      "source": [
        "#TRAINING\n",
        "\n",
        "model = Linear_Regression ( learning_rate = 0.02, no_of_iterations= 5000)\n"
      ],
      "metadata": {
        "id": "uOHg_lt79uAr"
      },
      "execution_count": 56,
      "outputs": []
    },
    {
      "cell_type": "code",
      "source": [
        "#FITTING\n",
        "model.fit(x_train, y_train)"
      ],
      "metadata": {
        "id": "9wPL2PSF-Wjl"
      },
      "execution_count": 57,
      "outputs": []
    },
    {
      "cell_type": "code",
      "source": [
        "#PRINTING PARAMETER VALUES\n",
        "\n",
        "print(' Weight = ',model.w[0])\n",
        "print(' Bias = ', model.b)"
      ],
      "metadata": {
        "colab": {
          "base_uri": "https://localhost:8080/"
        },
        "id": "62t53fOb-8Dw",
        "outputId": "f22111ce-c92d-4358-b117-50bb9db57279"
      },
      "execution_count": 58,
      "outputs": [
        {
          "output_type": "stream",
          "name": "stdout",
          "text": [
            " Weight =  9512.944987627436\n",
            " Bias =  23707.81324657524\n"
          ]
        }
      ]
    },
    {
      "cell_type": "code",
      "source": [
        "test_prediction = model.predict(x_test)"
      ],
      "metadata": {
        "id": "PbCtV1CaABVg"
      },
      "execution_count": 59,
      "outputs": []
    },
    {
      "cell_type": "code",
      "source": [
        "#VISUALIZATION\n",
        "\n",
        "plt.scatter(x_test, y_test, color = 'red')\n",
        "plt.plot(x_test, test_prediction, color = 'blue')\n"
      ],
      "metadata": {
        "colab": {
          "base_uri": "https://localhost:8080/",
          "height": 447
        },
        "id": "1RyAO1zXA5n8",
        "outputId": "b3a56ef8-385a-4e66-c7e5-0a248372ad57"
      },
      "execution_count": 60,
      "outputs": [
        {
          "output_type": "execute_result",
          "data": {
            "text/plain": [
              "[<matplotlib.lines.Line2D at 0x78687de94ee0>]"
            ]
          },
          "metadata": {},
          "execution_count": 60
        },
        {
          "output_type": "display_data",
          "data": {
            "text/plain": [
              "<Figure size 640x480 with 1 Axes>"
            ],
            "image/png": "[encoded data removed]"
          },
          "metadata": {}
        }
      ]
    },
    {
      "cell_type": "code",
      "source": [],
      "metadata": {
        "id": "dzOwBWMjBZiQ"
      },
      "execution_count": null,
      "outputs": []
    }
  ]
}